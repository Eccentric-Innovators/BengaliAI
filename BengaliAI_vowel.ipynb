{
  "nbformat": 4,
  "nbformat_minor": 0,
  "metadata": {
    "colab": {
      "name": "BengaliAI.ipynb",
      "provenance": [],
      "collapsed_sections": []
    },
    "kernelspec": {
      "name": "python3",
      "display_name": "Python 3"
    },
    "accelerator": "GPU"
  },
  "cells": [
    {
      "cell_type": "code",
      "metadata": {
        "id": "sXtsCcnsvEEo",
        "colab_type": "code",
        "outputId": "53daed42-9e1a-462f-af4e-0f7be0b327c3",
        "colab": {
          "base_uri": "https://localhost:8080/",
          "height": 124
        }
      },
      "source": [
        "from google.colab import drive\n",
        "drive.mount('/content/drive')"
      ],
      "execution_count": 1,
      "outputs": [
        {
          "output_type": "stream",
          "text": [
            "Go to this URL in a browser: https://accounts.google.com/o/oauth2/auth?client_id=947318989803-6bn6qk8qdgf4n4g3pfee6491hc0brc4i.apps.googleusercontent.com&redirect_uri=urn%3aietf%3awg%3aoauth%3a2.0%3aoob&response_type=code&scope=email%20https%3a%2f%2fwww.googleapis.com%2fauth%2fdocs.test%20https%3a%2f%2fwww.googleapis.com%2fauth%2fdrive%20https%3a%2f%2fwww.googleapis.com%2fauth%2fdrive.photos.readonly%20https%3a%2f%2fwww.googleapis.com%2fauth%2fpeopleapi.readonly\n",
            "\n",
            "Enter your authorization code:\n",
            "··········\n",
            "Mounted at /content/drive\n"
          ],
          "name": "stdout"
        }
      ]
    },
    {
      "cell_type": "code",
      "metadata": {
        "id": "6QXBJV_PnUkA",
        "colab_type": "code",
        "colab": {}
      },
      "source": [
        "#!cp /content/drive/My\\ Drive/Bengali/valid_gray.zip /content/\n",
        "#!cp /content/drive/My\\ Drive/Bengali/train_gray.zip /content/\n",
        "\n",
        "import os\n",
        "\n",
        "!cp /content/drive/My\\ Drive/Bengali/train_gen.csv /content/\n",
        "!cp /content/drive/My\\ Drive/Bengali/valid_gen.csv /content/\n",
        "\n",
        "!mkdir /content/train/\n",
        "!cp /content/drive/My\\ Drive/Bengali/train.zip /content/train/\n",
        "os.chdir('/content/train/')\n",
        "!unzip train.zip\n",
        "os.chdir('/content/')\n",
        "\n",
        "\n",
        "\n",
        "!rm /content/train/train.zip"
      ],
      "execution_count": 0,
      "outputs": []
    },
    {
      "cell_type": "code",
      "metadata": {
        "id": "eYbRB6hTuIyw",
        "colab_type": "code",
        "colab": {
          "base_uri": "https://localhost:8080/",
          "height": 1000
        },
        "outputId": "463bd1cc-8c41-4dbe-e11b-887c360ff405"
      },
      "source": [
        "!pip uninstall tensorflow\n",
        "!pip install tensorflow-gpu"
      ],
      "execution_count": 4,
      "outputs": [
        {
          "output_type": "stream",
          "text": [
            "Uninstalling tensorflow-1.15.0:\n",
            "  Would remove:\n",
            "    /usr/local/bin/estimator_ckpt_converter\n",
            "    /usr/local/bin/freeze_graph\n",
            "    /usr/local/bin/saved_model_cli\n",
            "    /usr/local/bin/tensorboard\n",
            "    /usr/local/bin/tf_upgrade_v2\n",
            "    /usr/local/bin/tflite_convert\n",
            "    /usr/local/bin/toco\n",
            "    /usr/local/bin/toco_from_protos\n",
            "    /usr/local/lib/python3.6/dist-packages/tensorflow-1.15.0.dist-info/*\n",
            "    /usr/local/lib/python3.6/dist-packages/tensorflow/*\n",
            "    /usr/local/lib/python3.6/dist-packages/tensorflow_core/*\n",
            "Proceed (y/n)? y\n",
            "  Successfully uninstalled tensorflow-1.15.0\n",
            "Collecting tensorflow-gpu\n",
            "\u001b[?25l  Downloading https://files.pythonhosted.org/packages/0a/93/c7bca39b23aae45cd2e85ad3871c81eccc63b9c5276e926511e2e5b0879d/tensorflow_gpu-2.1.0-cp36-cp36m-manylinux2010_x86_64.whl (421.8MB)\n",
            "\u001b[K     |████████████████████████████████| 421.8MB 38kB/s \n",
            "\u001b[?25hRequirement already satisfied: astor>=0.6.0 in /usr/local/lib/python3.6/dist-packages (from tensorflow-gpu) (0.8.1)\n",
            "Requirement already satisfied: keras-preprocessing>=1.1.0 in /usr/local/lib/python3.6/dist-packages (from tensorflow-gpu) (1.1.0)\n",
            "Collecting tensorboard<2.2.0,>=2.1.0\n",
            "\u001b[?25l  Downloading https://files.pythonhosted.org/packages/40/23/53ffe290341cd0855d595b0a2e7485932f473798af173bbe3a584b99bb06/tensorboard-2.1.0-py3-none-any.whl (3.8MB)\n",
            "\u001b[K     |████████████████████████████████| 3.8MB 31.2MB/s \n",
            "\u001b[?25hCollecting tensorflow-estimator<2.2.0,>=2.1.0rc0\n",
            "\u001b[?25l  Downloading https://files.pythonhosted.org/packages/18/90/b77c328a1304437ab1310b463e533fa7689f4bfc41549593056d812fab8e/tensorflow_estimator-2.1.0-py2.py3-none-any.whl (448kB)\n",
            "\u001b[K     |████████████████████████████████| 450kB 56.8MB/s \n",
            "\u001b[?25hRequirement already satisfied: numpy<2.0,>=1.16.0 in /usr/local/lib/python3.6/dist-packages (from tensorflow-gpu) (1.17.5)\n",
            "Requirement already satisfied: absl-py>=0.7.0 in /usr/local/lib/python3.6/dist-packages (from tensorflow-gpu) (0.9.0)\n",
            "Requirement already satisfied: google-pasta>=0.1.6 in /usr/local/lib/python3.6/dist-packages (from tensorflow-gpu) (0.1.8)\n",
            "Requirement already satisfied: six>=1.12.0 in /usr/local/lib/python3.6/dist-packages (from tensorflow-gpu) (1.12.0)\n",
            "Requirement already satisfied: wheel>=0.26; python_version >= \"3\" in /usr/local/lib/python3.6/dist-packages (from tensorflow-gpu) (0.34.2)\n",
            "Requirement already satisfied: scipy==1.4.1; python_version >= \"3\" in /usr/local/lib/python3.6/dist-packages (from tensorflow-gpu) (1.4.1)\n",
            "Requirement already satisfied: grpcio>=1.8.6 in /usr/local/lib/python3.6/dist-packages (from tensorflow-gpu) (1.15.0)\n",
            "Requirement already satisfied: gast==0.2.2 in /usr/local/lib/python3.6/dist-packages (from tensorflow-gpu) (0.2.2)\n",
            "Requirement already satisfied: opt-einsum>=2.3.2 in /usr/local/lib/python3.6/dist-packages (from tensorflow-gpu) (3.1.0)\n",
            "Requirement already satisfied: keras-applications>=1.0.8 in /usr/local/lib/python3.6/dist-packages (from tensorflow-gpu) (1.0.8)\n",
            "Requirement already satisfied: protobuf>=3.8.0 in /usr/local/lib/python3.6/dist-packages (from tensorflow-gpu) (3.10.0)\n",
            "Requirement already satisfied: wrapt>=1.11.1 in /usr/local/lib/python3.6/dist-packages (from tensorflow-gpu) (1.11.2)\n",
            "Requirement already satisfied: termcolor>=1.1.0 in /usr/local/lib/python3.6/dist-packages (from tensorflow-gpu) (1.1.0)\n",
            "Requirement already satisfied: werkzeug>=0.11.15 in /usr/local/lib/python3.6/dist-packages (from tensorboard<2.2.0,>=2.1.0->tensorflow-gpu) (0.16.1)\n",
            "Collecting google-auth<2,>=1.6.3\n",
            "\u001b[?25l  Downloading https://files.pythonhosted.org/packages/1c/6d/7aae38a9022f982cf8167775c7fc299f203417b698c27080ce09060bba07/google_auth-1.11.0-py2.py3-none-any.whl (76kB)\n",
            "\u001b[K     |████████████████████████████████| 81kB 13.3MB/s \n",
            "\u001b[?25hRequirement already satisfied: google-auth-oauthlib<0.5,>=0.4.1 in /usr/local/lib/python3.6/dist-packages (from tensorboard<2.2.0,>=2.1.0->tensorflow-gpu) (0.4.1)\n",
            "Requirement already satisfied: setuptools>=41.0.0 in /usr/local/lib/python3.6/dist-packages (from tensorboard<2.2.0,>=2.1.0->tensorflow-gpu) (45.1.0)\n",
            "Requirement already satisfied: requests<3,>=2.21.0 in /usr/local/lib/python3.6/dist-packages (from tensorboard<2.2.0,>=2.1.0->tensorflow-gpu) (2.21.0)\n",
            "Requirement already satisfied: markdown>=2.6.8 in /usr/local/lib/python3.6/dist-packages (from tensorboard<2.2.0,>=2.1.0->tensorflow-gpu) (3.1.1)\n",
            "Requirement already satisfied: h5py in /usr/local/lib/python3.6/dist-packages (from keras-applications>=1.0.8->tensorflow-gpu) (2.8.0)\n",
            "Requirement already satisfied: cachetools<5.0,>=2.0.0 in /usr/local/lib/python3.6/dist-packages (from google-auth<2,>=1.6.3->tensorboard<2.2.0,>=2.1.0->tensorflow-gpu) (4.0.0)\n",
            "Requirement already satisfied: rsa<4.1,>=3.1.4 in /usr/local/lib/python3.6/dist-packages (from google-auth<2,>=1.6.3->tensorboard<2.2.0,>=2.1.0->tensorflow-gpu) (4.0)\n",
            "Requirement already satisfied: pyasn1-modules>=0.2.1 in /usr/local/lib/python3.6/dist-packages (from google-auth<2,>=1.6.3->tensorboard<2.2.0,>=2.1.0->tensorflow-gpu) (0.2.8)\n",
            "Requirement already satisfied: requests-oauthlib>=0.7.0 in /usr/local/lib/python3.6/dist-packages (from google-auth-oauthlib<0.5,>=0.4.1->tensorboard<2.2.0,>=2.1.0->tensorflow-gpu) (1.3.0)\n",
            "Requirement already satisfied: chardet<3.1.0,>=3.0.2 in /usr/local/lib/python3.6/dist-packages (from requests<3,>=2.21.0->tensorboard<2.2.0,>=2.1.0->tensorflow-gpu) (3.0.4)\n",
            "Requirement already satisfied: idna<2.9,>=2.5 in /usr/local/lib/python3.6/dist-packages (from requests<3,>=2.21.0->tensorboard<2.2.0,>=2.1.0->tensorflow-gpu) (2.8)\n",
            "Requirement already satisfied: certifi>=2017.4.17 in /usr/local/lib/python3.6/dist-packages (from requests<3,>=2.21.0->tensorboard<2.2.0,>=2.1.0->tensorflow-gpu) (2019.11.28)\n",
            "Requirement already satisfied: urllib3<1.25,>=1.21.1 in /usr/local/lib/python3.6/dist-packages (from requests<3,>=2.21.0->tensorboard<2.2.0,>=2.1.0->tensorflow-gpu) (1.24.3)\n",
            "Requirement already satisfied: pyasn1>=0.1.3 in /usr/local/lib/python3.6/dist-packages (from rsa<4.1,>=3.1.4->google-auth<2,>=1.6.3->tensorboard<2.2.0,>=2.1.0->tensorflow-gpu) (0.4.8)\n",
            "Requirement already satisfied: oauthlib>=3.0.0 in /usr/local/lib/python3.6/dist-packages (from requests-oauthlib>=0.7.0->google-auth-oauthlib<0.5,>=0.4.1->tensorboard<2.2.0,>=2.1.0->tensorflow-gpu) (3.1.0)\n",
            "\u001b[31mERROR: tensorboard 2.1.0 has requirement grpcio>=1.24.3, but you'll have grpcio 1.15.0 which is incompatible.\u001b[0m\n",
            "\u001b[31mERROR: google-colab 1.0.0 has requirement google-auth~=1.4.0, but you'll have google-auth 1.11.0 which is incompatible.\u001b[0m\n",
            "Installing collected packages: google-auth, tensorboard, tensorflow-estimator, tensorflow-gpu\n",
            "  Found existing installation: google-auth 1.4.2\n",
            "    Uninstalling google-auth-1.4.2:\n",
            "      Successfully uninstalled google-auth-1.4.2\n",
            "  Found existing installation: tensorboard 1.15.0\n",
            "    Uninstalling tensorboard-1.15.0:\n",
            "      Successfully uninstalled tensorboard-1.15.0\n",
            "  Found existing installation: tensorflow-estimator 1.15.1\n",
            "    Uninstalling tensorflow-estimator-1.15.1:\n",
            "      Successfully uninstalled tensorflow-estimator-1.15.1\n",
            "Successfully installed google-auth-1.11.0 tensorboard-2.1.0 tensorflow-estimator-2.1.0 tensorflow-gpu-2.1.0\n"
          ],
          "name": "stdout"
        },
        {
          "output_type": "display_data",
          "data": {
            "application/vnd.colab-display-data+json": {
              "pip_warning": {
                "packages": [
                  "google"
                ]
              }
            }
          },
          "metadata": {
            "tags": []
          }
        }
      ]
    },
    {
      "cell_type": "code",
      "metadata": {
        "id": "8cRsvCajnxuj",
        "colab_type": "code",
        "outputId": "1beb1ffb-b5e8-4163-d8a8-d5bbd8ef1333",
        "colab": {
          "base_uri": "https://localhost:8080/",
          "height": 34
        }
      },
      "source": [
        "import cv2\n",
        "from tqdm import tqdm_notebook as tqdm\n",
        "import os\n",
        "import zipfile\n",
        "import io\n",
        "import tensorflow as tf\n",
        "import pandas as pd\n",
        "import numpy as np\n",
        "import tensorflow.keras as keras\n",
        "import seaborn as sns\n",
        "import matplotlib.pyplot as plt\n",
        "import warnings\n",
        "warnings.filterwarnings(\"ignore\")\n",
        "tf.__version__"
      ],
      "execution_count": 1,
      "outputs": [
        {
          "output_type": "execute_result",
          "data": {
            "text/plain": [
              "'2.1.0'"
            ]
          },
          "metadata": {
            "tags": []
          },
          "execution_count": 1
        }
      ]
    },
    {
      "cell_type": "markdown",
      "metadata": {
        "id": "1KvCrn5rZZih",
        "colab_type": "text"
      },
      "source": [
        "# Classifying Graheme Roots"
      ]
    },
    {
      "cell_type": "code",
      "metadata": {
        "id": "CkZAbzOBU12q",
        "colab_type": "code",
        "colab": {}
      },
      "source": [
        "train_gen_df = pd.read_csv('train_gen.csv', dtype=str)\n",
        "valid_gen_df = pd.read_csv('valid_gen.csv', dtype=str)\n",
        "\n",
        "test_gen_df = train_gen_df[-2000:]\n",
        "train_gen_df = train_gen_df[:-2000]\n",
        "\n",
        "### 168 unique target classes to train on"
      ],
      "execution_count": 0,
      "outputs": []
    },
    {
      "cell_type": "code",
      "metadata": {
        "id": "jF1D071ZFpac",
        "colab_type": "code",
        "colab": {}
      },
      "source": [
        "n_train = len(train_gen_df)\n",
        "n_valid = len(valid_gen_df)\n",
        "\n",
        "combined_df = pd.concat([train_gen_df, valid_gen_df, test_gen_df])\n",
        "combined_df = pd.get_dummies(combined_df, columns=['class'])\n",
        "train_gen_df = combined_df.iloc[:n_train]\n",
        "valid_gen_df = combined_df.iloc[n_train:n_train+n_valid]\n",
        "test_gen_df = combined_df.iloc[n_train+n_valid:]"
      ],
      "execution_count": 0,
      "outputs": []
    },
    {
      "cell_type": "code",
      "metadata": {
        "id": "sn10raWbCsId",
        "colab_type": "code",
        "colab": {}
      },
      "source": [
        "from tensorflow.keras.layers import Dense,BatchNormalization,MaxPool1D,Input,Dropout,Conv1D,Conv2D,Flatten,MaxPool2D,LeakyReLU # keras layers\n",
        "from tensorflow.keras.models import Model #Model class\n",
        "from tensorflow.keras.optimizers import Adam #optimizer\n",
        "from tensorflow.keras.callbacks import ReduceLROnPlateau,ModelCheckpoint,EarlyStopping"
      ],
      "execution_count": 0,
      "outputs": []
    },
    {
      "cell_type": "code",
      "metadata": {
        "id": "_ulMDSCACYhW",
        "colab_type": "code",
        "colab": {}
      },
      "source": [
        "model = keras.Sequential()\n",
        "model.add(Conv2D(filters=64, kernel_size=(5,5), activation='relu'))\n",
        "model.add(Conv2D(filters=32, kernel_size=(5,5), activation='relu'))\n",
        "model.add(LeakyReLU(alpha=0.17))\n",
        "model.add(BatchNormalization(momentum=0.15))\n",
        "model.add(MaxPool2D(pool_size=(2,2)))\n",
        "\n",
        "model.add(Conv2D(filters=64, kernel_size=(5,5), activation='relu'))\n",
        "model.add(Conv2D(filters=32, kernel_size=(5,5), activation='relu'))\n",
        "model.add(LeakyReLU(alpha=0.17))\n",
        "model.add(BatchNormalization(momentum=0.15))\n",
        "model.add(MaxPool2D(pool_size=(2,2)))\n",
        "\n",
        "model.add(Flatten())\n",
        "model.add(Dense(512))\n",
        "model.add(LeakyReLU())\n",
        "model.add(Dropout(rate=0.35))\n",
        "model.add(BatchNormalization(momentum=0.15))\n",
        "model.add(Dropout(rate=0.3))\n",
        "model.add(Dense(192, activation = \"relu\"))\n",
        "model.add(Dense(168, activation = 'softmax'))\n",
        "\n",
        "model.compile(optimizer='adam', loss='categorical_crossentropy', metrics=['accuracy'])"
      ],
      "execution_count": 0,
      "outputs": []
    },
    {
      "cell_type": "code",
      "metadata": {
        "id": "QuZ3FWWOSriy",
        "colab_type": "code",
        "colab": {}
      },
      "source": [
        "labels = train_gen_df.columns.tolist()[1:]"
      ],
      "execution_count": 0,
      "outputs": []
    },
    {
      "cell_type": "code",
      "metadata": {
        "id": "tMIhMHDDJOTj",
        "colab_type": "code",
        "outputId": "7fd4880b-4dc8-4364-8978-5810b4bc0a5e",
        "colab": {
          "base_uri": "https://localhost:8080/",
          "height": 69
        }
      },
      "source": [
        "from tensorflow.keras.preprocessing.image import ImageDataGenerator\n",
        "\n",
        "train_datagen = ImageDataGenerator(\n",
        "        rescale=1./255,\n",
        "        shear_range=0.2,\n",
        "        zoom_range=0.2,\n",
        "        horizontal_flip=True)\n",
        "\n",
        "test_datagen = ImageDataGenerator(rescale=1./255)\n",
        "\n",
        "train_generator = train_datagen.flow_from_dataframe(\n",
        "        dataframe=train_gen_df,\n",
        "        directory='/content/train/',\n",
        "        x_col=\"images\",\n",
        "        y_col=labels,\n",
        "        target_size=(128, 128),\n",
        "        class_mode='other',\n",
        "        batch_size=32)\n",
        "\n",
        "validation_generator = test_datagen.flow_from_dataframe(\n",
        "        dataframe=valid_gen_df,\n",
        "        directory='/content/train/',\n",
        "        x_col=\"images\",\n",
        "        y_col=labels,\n",
        "        target_size=(128, 128),\n",
        "        class_mode='other',\n",
        "        batch_size=32)\n",
        "\n",
        "test_generator = test_datagen.flow_from_dataframe(\n",
        "        dataframe=test_gen_df,\n",
        "        directory='/content/train/',\n",
        "        x_col=\"images\",\n",
        "        y_col=labels,\n",
        "        target_size=(128, 128),\n",
        "        class_mode='other',\n",
        "        batch_size=32)"
      ],
      "execution_count": 30,
      "outputs": [
        {
          "output_type": "stream",
          "text": [
            "Found 197840 validated image filenames.\n",
            "Found 1000 validated image filenames.\n",
            "Found 2000 validated image filenames.\n"
          ],
          "name": "stdout"
        }
      ]
    },
    {
      "cell_type": "code",
      "metadata": {
        "id": "pI9eLzVO63Of",
        "colab_type": "code",
        "colab": {}
      },
      "source": [
        "from keras.callbacks import ModelCheckpoint\n",
        "checkpointer = ModelCheckpoint(filepath=\"best_weights.hdf5\", \n",
        "                               monitor = 'val_acc',\n",
        "                               verbose=1, \n",
        "                               save_best_only=True)"
      ],
      "execution_count": 0,
      "outputs": []
    },
    {
      "cell_type": "code",
      "metadata": {
        "id": "TYOAmt1kfKx3",
        "colab_type": "code",
        "outputId": "f18b09e1-5a32-4704-a513-293201b2ef91",
        "colab": {
          "base_uri": "https://localhost:8080/",
          "height": 544
        }
      },
      "source": [
        "STEP_SIZE_TRAIN=train_generator.n//train_generator.batch_size\n",
        "STEP_SIZE_VALID=validation_generator.n//validation_generator.batch_size\n",
        "\n",
        "history = model.fit(train_generator,\n",
        "                              validation_data=validation_generator,\n",
        "                              validation_steps=STEP_SIZE_VALID,\n",
        "                              steps_per_epoch=STEP_SIZE_TRAIN,\n",
        "                              callbacks=[checkpointer],\n",
        "                              epochs=10)"
      ],
      "execution_count": 42,
      "outputs": [
        {
          "output_type": "stream",
          "text": [
            "WARNING:tensorflow:sample_weight modes were coerced from\n",
            "  ...\n",
            "    to  \n",
            "  ['...']\n",
            "WARNING:tensorflow:sample_weight modes were coerced from\n",
            "  ...\n",
            "    to  \n",
            "  ['...']\n",
            "Train for 6182 steps, validate for 31 steps\n",
            "Epoch 1/10\n",
            "6182/6182 [==============================] - 818s 132ms/step - loss: 1.0094 - accuracy: 0.7121 - val_loss: 0.8489 - val_accuracy: 0.7631\n",
            "Epoch 2/10\n",
            "6182/6182 [==============================] - 868s 140ms/step - loss: 0.9588 - accuracy: 0.7239 - val_loss: 0.7864 - val_accuracy: 0.7762\n",
            "Epoch 3/10\n",
            "6182/6182 [==============================] - 885s 143ms/step - loss: 0.9220 - accuracy: 0.7335 - val_loss: 0.8174 - val_accuracy: 0.7752\n",
            "Epoch 4/10\n",
            "6182/6182 [==============================] - 842s 136ms/step - loss: 0.8921 - accuracy: 0.7428 - val_loss: 0.7982 - val_accuracy: 0.7792\n",
            "Epoch 5/10\n",
            "6182/6182 [==============================] - 841s 136ms/step - loss: 0.8651 - accuracy: 0.7492 - val_loss: 0.7649 - val_accuracy: 0.7933\n",
            "Epoch 6/10\n",
            "6182/6182 [==============================] - 847s 137ms/step - loss: 0.8414 - accuracy: 0.7556 - val_loss: 0.7659 - val_accuracy: 0.7792\n",
            "Epoch 7/10\n",
            "6182/6182 [==============================] - 840s 136ms/step - loss: 0.8214 - accuracy: 0.7602 - val_loss: 0.7473 - val_accuracy: 0.7964\n",
            "Epoch 8/10\n",
            "6182/6182 [==============================] - 831s 134ms/step - loss: 0.8052 - accuracy: 0.7652 - val_loss: 0.6919 - val_accuracy: 0.8095\n",
            "Epoch 9/10\n",
            "6182/6182 [==============================] - 854s 138ms/step - loss: 0.7845 - accuracy: 0.7700 - val_loss: 0.7181 - val_accuracy: 0.7964\n",
            "Epoch 10/10\n",
            "6182/6182 [==============================] - 862s 140ms/step - loss: 0.7728 - accuracy: 0.7735 - val_loss: 0.7103 - val_accuracy: 0.8004\n"
          ],
          "name": "stdout"
        }
      ]
    },
    {
      "cell_type": "code",
      "metadata": {
        "id": "7gv60VPDL0pA",
        "colab_type": "code",
        "colab": {}
      },
      "source": [
        "import h5py\n",
        "os.chdir('/content/')\n",
        "model.save(\"model_trial5.h5\")"
      ],
      "execution_count": 0,
      "outputs": []
    },
    {
      "cell_type": "code",
      "metadata": {
        "id": "FruYwCSQ6sXW",
        "colab_type": "code",
        "colab": {}
      },
      "source": [
        "acc = history.history['accuracy']\n",
        "val_acc = history.history['val_accuracy']\n",
        "loss = history.history['loss']\n",
        "val_loss = history.history['val_loss']\n",
        "\n",
        "hist_df = pd.DataFrame({'accuracy':acc, 'val_accuracy':val_acc, 'loss':loss, 'val_loss':val_loss})\n",
        "hist_df.to_csv('hist_trial5.csv', index=False)"
      ],
      "execution_count": 0,
      "outputs": []
    },
    {
      "cell_type": "code",
      "metadata": {
        "id": "FlZMfD3-LsgY",
        "colab_type": "code",
        "colab": {}
      },
      "source": [
        "!cp /content/model_trial5.h5 /content/drive/My\\ Drive/Bengali/\n",
        "!cp /content/hist_trial5.csv /content/drive/My\\ Drive/Bengali/"
      ],
      "execution_count": 0,
      "outputs": []
    },
    {
      "cell_type": "code",
      "metadata": {
        "id": "Dq6kpDaJ8U7X",
        "colab_type": "code",
        "outputId": "65a20ffc-9b56-4b94-8bfe-e2bb313a41d3",
        "colab": {
          "base_uri": "https://localhost:8080/",
          "height": 282
        }
      },
      "source": [
        "plt.plot(history.history['val_loss'])\n",
        "plt.plot()"
      ],
      "execution_count": 46,
      "outputs": [
        {
          "output_type": "execute_result",
          "data": {
            "text/plain": [
              "[]"
            ]
          },
          "metadata": {
            "tags": []
          },
          "execution_count": 46
        },
        {
          "output_type": "display_data",
          "data": {
            "image/png": "[encoded data removed]",
            "text/plain": [
              "<Figure size 432x288 with 1 Axes>"
            ]
          },
          "metadata": {
            "tags": []
          }
        }
      ]
    },
    {
      "cell_type": "code",
      "metadata": {
        "id": "2Qtd0RJUMhpY",
        "colab_type": "code",
        "outputId": "94589b48-5449-48d9-9332-3cd53cdb57bc",
        "colab": {
          "base_uri": "https://localhost:8080/",
          "height": 122
        }
      },
      "source": [
        "model.evaluate(test_generator)"
      ],
      "execution_count": 47,
      "outputs": [
        {
          "output_type": "stream",
          "text": [
            "WARNING:tensorflow:sample_weight modes were coerced from\n",
            "  ...\n",
            "    to  \n",
            "  ['...']\n",
            "63/63 [==============================] - 1s 20ms/step - loss: 0.6859 - accuracy: 0.8085\n"
          ],
          "name": "stdout"
        },
        {
          "output_type": "execute_result",
          "data": {
            "text/plain": [
              "[0.6859013206428952, 0.8085]"
            ]
          },
          "metadata": {
            "tags": []
          },
          "execution_count": 47
        }
      ]
    },
    {
      "cell_type": "code",
      "metadata": {
        "id": "QK188Kf2NGK1",
        "colab_type": "code",
        "colab": {
          "base_uri": "https://localhost:8080/",
          "height": 115
        },
        "outputId": "c4bd041b-87d4-4bf3-8c1a-d55da5ae1648"
      },
      "source": [
        "from keras.utils import plot_model\n",
        "plot_model(model, to_file='model.png')"
      ],
      "execution_count": 40,
      "outputs": [
        {
          "output_type": "stream",
          "text": [
            "Using TensorFlow backend.\n"
          ],
          "name": "stderr"
        },
        {
          "output_type": "execute_result",
          "data": {
            "image/png": "[encoded data removed]",
            "text/plain": [
              "<IPython.core.display.Image object>"
            ]
          },
          "metadata": {
            "tags": []
          },
          "execution_count": 40
        }
      ]
    },
    {
      "cell_type": "code",
      "metadata": {
        "id": "Zr7MZUiCfNa7",
        "colab_type": "code",
        "colab": {}
      },
      "source": [
        ""
      ],
      "execution_count": 0,
      "outputs": []
    },
    {
      "cell_type": "markdown",
      "metadata": {
        "id": "8EP5r9lsipcb",
        "colab_type": "text"
      },
      "source": [
        "# Vowel diacritic classifier"
      ]
    },
    {
      "cell_type": "code",
      "metadata": {
        "id": "stE1R5J4i6xj",
        "colab_type": "code",
        "colab": {
          "base_uri": "https://localhost:8080/",
          "height": 54
        },
        "outputId": "7d264674-e47a-465f-acf9-bfd053c735eb"
      },
      "source": [
        "from tensorflow.keras.models import load_model \n",
        "vowel_model = load_model('model_trial5.h5')"
      ],
      "execution_count": 68,
      "outputs": [
        {
          "output_type": "stream",
          "text": [
            "WARNING:tensorflow:Sequential models without an `input_shape` passed to the first layer cannot reload their optimizer state. As a result, your model isstarting with a freshly initialized optimizer.\n"
          ],
          "name": "stdout"
        }
      ]
    },
    {
      "cell_type": "code",
      "metadata": {
        "id": "otP4srCTOBbL",
        "colab_type": "code",
        "colab": {}
      },
      "source": [
        "df = pd.read_csv('train_vowels.csv')"
      ],
      "execution_count": 0,
      "outputs": []
    },
    {
      "cell_type": "code",
      "metadata": {
        "id": "TdhxdIpRn-0w",
        "colab_type": "code",
        "colab": {}
      },
      "source": [
        "n_valid = 2000\n",
        "n_test = 1000\n",
        "n_train = len(df) - n_valid - n_test\n",
        "\n",
        "train_gen_df = df.iloc[:n_train]\n",
        "valid_gen_df = df.iloc[n_train:-n_test]\n",
        "test_gen_df = df.iloc[-n_test:]"
      ],
      "execution_count": 0,
      "outputs": []
    },
    {
      "cell_type": "code",
      "metadata": {
        "id": "N1_CmiFFoig5",
        "colab_type": "code",
        "colab": {}
      },
      "source": [
        "model.add(Dense(11, activation='softmax'))\n",
        "model.compile(optimizer='adam', loss='categorical_crossentropy', metrics=['accuracy'])"
      ],
      "execution_count": 0,
      "outputs": []
    },
    {
      "cell_type": "code",
      "metadata": {
        "id": "BMHAfzbSpD8I",
        "colab_type": "code",
        "colab": {
          "base_uri": "https://localhost:8080/",
          "height": 69
        },
        "outputId": "436a1f51-b161-41ec-e622-fe413ea4f8d7"
      },
      "source": [
        "labels = train_gen_df.columns.tolist()[1:]\n",
        "\n",
        "train_datagen = ImageDataGenerator(\n",
        "        rescale=1./255,\n",
        "        shear_range=0.2,\n",
        "        zoom_range=0.2,\n",
        "        horizontal_flip=True)\n",
        "\n",
        "test_datagen = ImageDataGenerator(rescale=1./255)\n",
        "\n",
        "train_generator = train_datagen.flow_from_dataframe(\n",
        "        dataframe=train_gen_df,\n",
        "        directory='/content/train/',\n",
        "        x_col=\"image\",\n",
        "        y_col=labels,\n",
        "        target_size=(128, 128),\n",
        "        class_mode='other',\n",
        "        batch_size=32)\n",
        "\n",
        "validation_generator = test_datagen.flow_from_dataframe(\n",
        "        dataframe=valid_gen_df,\n",
        "        directory='/content/train/',\n",
        "        x_col=\"image\",\n",
        "        y_col=labels,\n",
        "        target_size=(128, 128),\n",
        "        class_mode='other',\n",
        "        batch_size=32)\n",
        "\n",
        "test_generator = test_datagen.flow_from_dataframe(\n",
        "        dataframe=test_gen_df,\n",
        "        directory='/content/train/',\n",
        "        x_col=\"image\",\n",
        "        y_col=labels,\n",
        "        target_size=(128, 128),\n",
        "        class_mode='other',\n",
        "        batch_size=32)"
      ],
      "execution_count": 97,
      "outputs": [
        {
          "output_type": "stream",
          "text": [
            "Found 197840 validated image filenames.\n",
            "Found 2000 validated image filenames.\n",
            "Found 1000 validated image filenames.\n"
          ],
          "name": "stdout"
        }
      ]
    },
    {
      "cell_type": "code",
      "metadata": {
        "id": "1ODEWw9vpfp1",
        "colab_type": "code",
        "colab": {}
      },
      "source": [
        "from keras.callbacks import ModelCheckpoint\n",
        "checkpointer = ModelCheckpoint(filepath=\"best_weights.hdf5\", \n",
        "                               monitor = 'val_acc',\n",
        "                               verbose=1, \n",
        "                               save_best_only=True)"
      ],
      "execution_count": 0,
      "outputs": []
    },
    {
      "cell_type": "code",
      "metadata": {
        "id": "1G3F7DxtpoUK",
        "colab_type": "code",
        "colab": {
          "base_uri": "https://localhost:8080/",
          "height": 544
        },
        "outputId": "b11e0d9e-c137-40eb-c867-e1e46c9fc588"
      },
      "source": [
        "STEP_SIZE_TRAIN=train_generator.n//train_generator.batch_size\n",
        "STEP_SIZE_VALID=validation_generator.n//validation_generator.batch_size\n",
        "\n",
        "history = model.fit(train_generator,\n",
        "                              validation_data=validation_generator,\n",
        "                              validation_steps=STEP_SIZE_VALID,\n",
        "                              steps_per_epoch=STEP_SIZE_TRAIN,\n",
        "                              callbacks=[checkpointer],\n",
        "                              epochs=10)"
      ],
      "execution_count": 99,
      "outputs": [
        {
          "output_type": "stream",
          "text": [
            "WARNING:tensorflow:sample_weight modes were coerced from\n",
            "  ...\n",
            "    to  \n",
            "  ['...']\n",
            "WARNING:tensorflow:sample_weight modes were coerced from\n",
            "  ...\n",
            "    to  \n",
            "  ['...']\n",
            "Train for 6182 steps, validate for 62 steps\n",
            "Epoch 1/10\n",
            "6182/6182 [==============================] - 834s 135ms/step - loss: 1.3644 - accuracy: 0.5271 - val_loss: 0.9845 - val_accuracy: 0.6966\n",
            "Epoch 2/10\n",
            "6182/6182 [==============================] - 836s 135ms/step - loss: 0.7725 - accuracy: 0.7616 - val_loss: 0.5150 - val_accuracy: 0.8438\n",
            "Epoch 3/10\n",
            "6182/6182 [==============================] - 842s 136ms/step - loss: 0.5249 - accuracy: 0.8361 - val_loss: 0.3998 - val_accuracy: 0.8765\n",
            "Epoch 4/10\n",
            "6182/6182 [==============================] - 840s 136ms/step - loss: 0.4274 - accuracy: 0.8644 - val_loss: 0.3604 - val_accuracy: 0.8866\n",
            "Epoch 5/10\n",
            "6182/6182 [==============================] - 841s 136ms/step - loss: 0.3743 - accuracy: 0.8801 - val_loss: 0.2785 - val_accuracy: 0.9123\n",
            "Epoch 6/10\n",
            "6182/6182 [==============================] - 823s 133ms/step - loss: 0.3414 - accuracy: 0.8906 - val_loss: 0.2655 - val_accuracy: 0.9062\n",
            "Epoch 7/10\n",
            "6182/6182 [==============================] - 820s 133ms/step - loss: 0.3204 - accuracy: 0.8968 - val_loss: 0.2520 - val_accuracy: 0.9229\n",
            "Epoch 8/10\n",
            "6182/6182 [==============================] - 819s 132ms/step - loss: 0.3035 - accuracy: 0.9035 - val_loss: 0.2329 - val_accuracy: 0.9178\n",
            "Epoch 9/10\n",
            "6182/6182 [==============================] - 817s 132ms/step - loss: 0.2900 - accuracy: 0.9086 - val_loss: 0.2703 - val_accuracy: 0.9234\n",
            "Epoch 10/10\n",
            "6182/6182 [==============================] - 822s 133ms/step - loss: 0.2786 - accuracy: 0.9137 - val_loss: 0.2190 - val_accuracy: 0.9365\n"
          ],
          "name": "stdout"
        }
      ]
    },
    {
      "cell_type": "code",
      "metadata": {
        "id": "f0JKk5wypsvZ",
        "colab_type": "code",
        "colab": {}
      },
      "source": [
        "import h5py\n",
        "os.chdir('/content/')\n",
        "model.save(\"vowel_model_trial1.h5\")"
      ],
      "execution_count": 0,
      "outputs": []
    },
    {
      "cell_type": "code",
      "metadata": {
        "id": "6zGVud09pxaY",
        "colab_type": "code",
        "colab": {}
      },
      "source": [
        "acc = history.history['accuracy']\n",
        "val_acc = history.history['val_accuracy']\n",
        "loss = history.history['loss']\n",
        "val_loss = history.history['val_loss']\n",
        "\n",
        "hist_df = pd.DataFrame({'accuracy':acc, 'val_accuracy':val_acc, 'loss':loss, 'val_loss':val_loss})\n",
        "hist_df.to_csv('vowel_hist_trial1.csv', index=False)"
      ],
      "execution_count": 0,
      "outputs": []
    },
    {
      "cell_type": "code",
      "metadata": {
        "id": "t57PxQqap4Lk",
        "colab_type": "code",
        "colab": {}
      },
      "source": [
        "!cp /content/vowel_model_trial1.h5 /content/drive/My\\ Drive/Bengali/\n",
        "!cp /content/vowel_hist_trial1.csv /content/drive/My\\ Drive/Bengali/"
      ],
      "execution_count": 0,
      "outputs": []
    },
    {
      "cell_type": "code",
      "metadata": {
        "id": "q8tQ7OLTNgSL",
        "colab_type": "code",
        "colab": {}
      },
      "source": [
        ""
      ],
      "execution_count": 0,
      "outputs": []
    }
  ]
}